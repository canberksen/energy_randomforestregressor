{
 "cells": [
  {
   "cell_type": "code",
   "execution_count": 4,
   "metadata": {},
   "outputs": [],
   "source": [
    "#importing libraries\n",
    "import pandas as pd\n",
    "import numpy as np\n",
    "from sklearn.model_selection import train_test_split, GridSearchCV,cross_val_score\n",
    "from sklearn.metrics import accuracy_score\n",
    "from sklearn.ensemble import RandomForestRegressor\n",
    "from sklearn.preprocessing import MinMaxScaler\n",
    "from sklearn import metrics"
   ]
  },
  {
   "cell_type": "code",
   "execution_count": 5,
   "metadata": {},
   "outputs": [],
   "source": [
    "#importing dataset\n",
    "df_energy = pd.read_csv(\"building_energy_data.csv\")"
   ]
  },
  {
   "cell_type": "code",
   "execution_count": 6,
   "metadata": {},
   "outputs": [
    {
     "name": "stdout",
     "output_type": "stream",
     "text": [
      "Fitting 3 folds for each of 162 candidates, totalling 486 fits\n",
      "Mean Squared Error (MSE): 0.742\n",
      "R^2: 0.993\n"
     ]
    }
   ],
   "source": [
    "#target and categories are set\n",
    "X = df_energy.drop(\"Heating Load\", axis=1)\n",
    "y = df_energy[\"Heating Load\"]\n",
    "\n",
    "#splitting the data into training and test sets (70% for training, 30% for testing)\n",
    "X_train, X_test, y_train, y_test = train_test_split(X, y, test_size=0.3, random_state=42)\n",
    "\n",
    "#scale the values with MinMaxScaler\n",
    "scaler = MinMaxScaler()\n",
    "X_train_scaled = scaler.fit_transform(X_train)\n",
    "X_test_scaled = scaler.transform(X_test)\n",
    "\n",
    "#creating RF Regressor model\n",
    "rf = RandomForestRegressor()\n",
    "\n",
    "#defining the parameter grid for GridSearchCV\n",
    "param_grid_rf = {\n",
    "    'max_depth': [25, 50, 75],\n",
    "    'max_features': [2, 3],\n",
    "    'min_samples_leaf': [3, 4, 5],\n",
    "    'min_samples_split': [8, 10, 12],\n",
    "    'n_estimators': [50, 100, 150]}\n",
    "\n",
    "#creating the GridSearchCV object with 3-fold cross-validation\n",
    "grid_search_rf = GridSearchCV(estimator = rf, param_grid = param_grid_rf, \n",
    "                          cv = 3, n_jobs = -1, verbose = 2)\n",
    "\n",
    "#fitting the GridSearchCV object to the scaled training data\n",
    "grid_search_rf.fit(X_train_scaled, y_train)\n",
    "\n",
    "#getting the best estimator and its parameters\n",
    "best_grid_rf = grid_search_rf.best_estimator_\n",
    "best_params_rf = grid_search_rf.best_params_\n",
    "\n",
    "#predicting the target variable for the test set using the best estimator\n",
    "y_pred = best_grid_rf.predict(X_test_scaled)\n",
    "\n",
    "#calculating the MSE and R^2 of the model\n",
    "print('Mean Squared Error (MSE):', metrics.mean_squared_error(y_test, y_pred).round(3))\n",
    "print('R^2:', metrics.r2_score(y_test, y_pred).round(3))"
   ]
  }
 ],
 "metadata": {
  "colab": {
   "authorship_tag": "ABX9TyPqohuztqXav8KiRkeYJjSi",
   "provenance": []
  },
  "kernelspec": {
   "display_name": "Python 3 (ipykernel)",
   "language": "python",
   "name": "python3"
  },
  "language_info": {
   "codemirror_mode": {
    "name": "ipython",
    "version": 3
   },
   "file_extension": ".py",
   "mimetype": "text/x-python",
   "name": "python",
   "nbconvert_exporter": "python",
   "pygments_lexer": "ipython3",
   "version": "3.10.9"
  }
 },
 "nbformat": 4,
 "nbformat_minor": 1
}
